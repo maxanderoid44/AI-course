{
 "cells": [
  {
   "cell_type": "markdown",
   "id": "02b24882",
   "metadata": {},
   "source": [
    "# Numpy Library: Introduction and Usage\n",
    "Numpy is a powerful Python library for numerical computing. It provides support for arrays, matrices, and many mathematical functions.\n",
    "\n",
    "## Installation\n",
    "```bash\n",
    "pip install numpy\n",
    "```\n",
    "\n",
    "## Importing Numpy\n",
    "```python\n",
    "import numpy as np\n",
    "```\n"
   ]
  },
  {
   "cell_type": "markdown",
   "id": "c98e06ff",
   "metadata": {},
   "source": [
    "## Basic Usage\n",
    "Let's create a numpy array and perform some operations."
   ]
  },
  {
   "cell_type": "code",
   "execution_count": null,
   "id": "10c35f95",
   "metadata": {},
   "outputs": [],
   "source": [
    "import numpy as np\n",
    "a = np.array([1, 2, 3, 4, 5])\n",
    "print('Array:', a)\n",
    "print('Mean:', np.mean(a))\n",
    "print('Standard Deviation:', np.std(a))\n"
   ]
  },
  {
   "cell_type": "markdown",
   "id": "array_creation",
   "metadata": {},
   "source": [
    "### Array Creation\n",
    "Numpy provides several ways to create arrays."
   ]
  },
  {
   "cell_type": "code",
   "execution_count": null,
   "id": "array_creation_code",
   "metadata": {},
   "outputs": [],
   "source": [
    "zeros = np.zeros((2, 3))\n",
    "ones = np.ones((2, 3))\n",
    "arange = np.arange(0, 10, 2)\n",
    "linspace = np.linspace(0, 6, 6)\n",
    "print('Zeros:', zeros)\n",
    "print('Ones:', ones)\n",
    "print('Arange:', arange)\n",
    "print('Linspace:', linspace)\n"
   ]
  },
  {
   "cell_type": "markdown",
   "id": "reshaping",
   "metadata": {},
   "source": [
    "### Reshaping Arrays\n",
    "You can change the shape of an array using `reshape`."
   ]
  },
  {
   "cell_type": "code",
   "execution_count": null,
   "id": "reshaping_code",
   "metadata": {},
   "outputs": [],
   "source": [
    "b = np.arange(12)\n",
    "b2 = b.reshape((3, 4))\n",
    "print('Original:', b)\n",
    "print('Reshaped to 3x4:', b2)"
   ]
  },
  {
   "cell_type": "markdown",
   "id": "slicing",
   "metadata": {},
   "source": [
    "### Slicing and Indexing\n",
    "Numpy arrays can be sliced and indexed like Python lists, but with more power."
   ]
  },
  {
   "cell_type": "code",
   "execution_count": null,
   "id": "slicing_code",
   "metadata": {},
   "outputs": [],
   "source": [
    "c = np.array([[1, 2, 3], [4, 5, 6], [7, 8, 9]])\n",
    "print('Element at (1,2):', c[1, 2])\n",
    "print('First row:', c[0, :])\n",
    "print('Last column:', c[:, -1])\n"
   ]
  },
  {
   "cell_type": "markdown",
   "id": "broadcasting",
   "metadata": {},
   "source": [
    "### Broadcasting\n",
    "Numpy can perform operations on arrays of different shapes using broadcasting."
   ]
  },
  {
   "cell_type": "code",
   "execution_count": null,
   "id": "broadcasting_code",
   "metadata": {},
   "outputs": [],
   "source": [
    "x = np.array([1, 2, 3])\n",
    "y = np.array([[10], [20], [30]])\n",
    "print('x + y =', x + y)\n"
   ]
  },
  {
   "cell_type": "markdown",
   "id": "math_ops",
   "metadata": {},
   "source": [
    "### Mathematical Operations\n",
    "Numpy supports element-wise and matrix operations."
   ]
  },
  {
   "cell_type": "code",
   "execution_count": null,
   "id": "math_ops_code",
   "metadata": {},
   "outputs": [],
   "source": [
    "arr1 = np.array([1, 2, 3])\n",
    "arr2 = np.array([4, 5, 6])\n",
    "print('Addition:', arr1 + arr2)\n",
    "print('Multiplication:', arr1 * arr2)\n",
    "print('Dot product:', np.dot(arr1, arr2))\n"
   ]
  },
  {
   "cell_type": "markdown",
   "id": "random_gen",
   "metadata": {},
   "source": [
    "### Random Number Generation\n",
    "Numpy can generate random numbers for simulations and AI."
   ]
  },
  {
   "cell_type": "code",
   "execution_count": null,
   "id": "random_gen_code",
   "metadata": {},
   "outputs": [],
   "source": [
    "rand_arr = np.random.rand(2, 3)\n",
    "randn_arr = np.random.randn(2, 3)\n",
    "print('Uniform random:', rand_arr)\n",
    "print('Normal random:', randn_arr)\n"
   ]
  },
  {
   "cell_type": "markdown",
   "id": "boolean_indexing",
   "metadata": {},
   "source": [
    "### Boolean Indexing\n",
    "Select elements based on conditions."
   ]
  },
  {
   "cell_type": "code",
   "execution_count": null,
   "id": "boolean_indexing_code",
   "metadata": {},
   "outputs": [],
   "source": [
    "arr = np.array([1, 2, 3, 4, 5, 6])\n",
    "print('Elements > 3:', arr[arr > 3])\n"
   ]
  },
  {
   "cell_type": "markdown",
   "id": "stacking",
   "metadata": {},
   "source": [
    "### Stacking Arrays\n",
    "Combine arrays vertically or horizontally."
   ]
  },
  {
   "cell_type": "code",
   "execution_count": null,
   "id": "stacking_code",
   "metadata": {},
   "outputs": [],
   "source": [
    "a = np.array([[1, 2], [3, 4]])\n",
    "b = np.array([[5, 6]])\n",
    "print('Vertical stack:', np.vstack([a, b]))\n",
    "print('Horizontal stack:', np.hstack([a, b.T]))\n"
   ]
  },
  {
   "cell_type": "markdown",
   "id": "splitting",
   "metadata": {},
   "source": [
    "### Splitting Arrays\n",
    "Split arrays into multiple sub-arrays."
   ]
  },
  {
   "cell_type": "code",
   "execution_count": null,
   "id": "splitting_code",
   "metadata": {},
   "outputs": [],
   "source": [
    "arr = np.arange(9)\n",
    "split = np.split(arr, 3)\n",
    "print('Split into 3:', split)\n"
   ]
  },
  {
   "cell_type": "markdown",
   "id": "aggregation",
   "metadata": {},
   "source": [
    "### Aggregation Functions\n",
    "Numpy provides fast aggregation functions like sum, min, max, mean, etc."
   ]
  },
  {
   "cell_type": "code",
   "execution_count": null,
   "id": "aggregation_code",
   "metadata": {},
   "outputs": [],
   "source": [
    "arr = np.array([[1, 2, 3], [4, 5, 6]])\n",
    "print('Sum:', arr.sum())\n",
    "print('Min:', arr.min())\n",
    "print('Max:', arr.max())\n",
    "print('Mean:', arr.mean())\n"
   ]
  },
  {
   "cell_type": "markdown",
   "id": "axis_ops",
   "metadata": {},
   "source": [
    "### Operations Along an Axis\n",
    "You can aggregate along rows or columns using the axis argument."
   ]
  },
  {
   "cell_type": "code",
   "execution_count": null,
   "id": "axis_ops_code",
   "metadata": {},
   "outputs": [],
   "source": [
    "arr = np.array([[1, 2, 3], [4, 5, 6]])\n",
    "print('Sum along columns:', arr.sum(axis=0))\n",
    "print('Sum along rows:', arr.sum(axis=1))\n"
   ]
  },
  {
   "cell_type": "markdown",
   "id": "linear_algebra",
   "metadata": {},
   "source": [
    "### Linear Algebra\n",
    "Numpy supports matrix multiplication, inversion, eigenvalues, etc."
   ]
  },
  {
   "cell_type": "code",
   "execution_count": null,
   "id": "linear_algebra_code",
   "metadata": {},
   "outputs": [],
   "source": [
    "A = np.array([[1, 2], [3, 4]])\n",
    "B = np.array([[2, 0], [1, 2]])\n",
    "print('Matrix product:', np.dot(A, B))\n",
    "print('Inverse of A:', np.linalg.inv(A))\n",
    "eigvals, eigvecs = np.linalg.eig(A)\n",
    "print('Eigenvalues:', eigvals)\n",
    "print('Eigenvectors:', eigvecs)\n"
   ]
  },
  {
   "cell_type": "markdown",
   "id": "d038490e",
   "metadata": {},
   "source": [
    "## Documentation\n",
    "- [Numpy Documentation](https://numpy.org/doc/)\n",
    "- [Numpy User Guide](https://numpy.org/doc/stable/user/)\n"
   ]
  },
  {
   "cell_type": "markdown",
   "id": "1f7d20a9",
   "metadata": {},
   "source": [
    "## Project: Using Numpy in AI\n",
    "Build a simple linear regression from scratch using numpy.\n",
    "\n",
    "### Example\n",
    "```python\n",
    "# Generate some data\n",
    "X = np.random.rand(100, 1)\n",
    "y = 3 * X.squeeze() + 2 + np.random.randn(100) * 0.1\n",
    "\n",
    "# Linear regression using numpy\n",
    "X_b = np.c_[np.ones((100, 1)), X]  # add bias term\n",
    "theta_best = np.linalg.inv(X_b.T.dot(X_b)).dot(X_b.T).dot(y)\n",
    "print('Estimated coefficients:', theta_best)\n",
    "```\n"
   ]
  },
  {
   "cell_type": "code",
   "execution_count": null,
   "id": "63e991fe",
   "metadata": {},
   "outputs": [],
   "source": [
    "# Generate some data\n",
    "X = np.random.rand(100, 1)\n",
    "y = 3 * X.squeeze() + 2 + np.random.randn(100) * 0.1\n",
    "\n",
    "# Linear regression using numpy\n",
    "X_b = np.c_[np.ones((100, 1)), X]  # add bias term\n",
    "theta_best = np.linalg.inv(X_b.T.dot(X_b)).dot(X_b.T).dot(y)\n",
    "print('Estimated coefficients:', theta_best)"
   ]
  }
 ],
 "metadata": {
  "kernelspec": {
   "display_name": ".venv",
   "language": "python",
   "name": "python3"
  },
  "language_info": {
   "codemirror_mode": {
    "name": "ipython",
    "version": 3
   },
   "file_extension": ".py",
   "mimetype": "text/x-python",
   "name": "python",
   "nbconvert_exporter": "python",
   "pygments_lexer": "ipython3",
   "version": "3.12.4"
  }
 },
 "nbformat": 4,
 "nbformat_minor": 5
}
