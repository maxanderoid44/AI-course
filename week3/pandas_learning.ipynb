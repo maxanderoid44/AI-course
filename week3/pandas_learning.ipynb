{
 "cells": [
  {
   "cell_type": "markdown",
   "id": "intro",
   "metadata": {},
   "source": [
    "# Pandas Library: Introduction and Usage\n",
    "Pandas is a powerful Python library for data manipulation and analysis. It provides data structures like DataFrame and Series.\n",
    "\n",
    "## Installation\n",
    "```bash\n",
    "pip install pandas\n",
    "```\n",
    "\n",
    "## Importing Pandas\n",
    "```python\n",
    "import pandas as pd\n",
    "```\n"
   ]
  },
  {
   "cell_type": "markdown",
   "id": "series_df_creation",
   "metadata": {},
   "source": [
    "## Series and DataFrame Creation\n",
    "Create Series and DataFrames from lists, dicts, or numpy arrays."
   ]
  },
  {
   "cell_type": "code",
   "execution_count": null,
   "id": "series_df_creation_code",
   "metadata": {},
   "outputs": [],
   "source": [
    "import pandas as pd\n",
    "import numpy as np\n",
    "s = pd.Series([1, 3, 5, np.nan, 6, 8])\n",
    "print('Series:', s)\n",
    "df = pd.DataFrame({'A': 1., 'B': pd.Timestamp('20230101'), 'C': pd.Series(1, index=list(range(4)), dtype='float32'), 'D': np.array([3] * 4, dtype='int32'), 'E': pd.Categorical(['test', 'train', 'test', 'train']), 'F': 'foo'})\n",
    "# print('DataFrame:', df)\n",
    "df.head()\n",
    "df.tail()\n",
    "df.info()\n",
    "df.describe()\n",
    "\n"
   ]
  },
  {
   "cell_type": "markdown",
   "id": "indexing_selection",
   "metadata": {},
   "source": [
    "## Indexing and Selection\n",
    "Select data by label, position, or boolean indexing."
   ]
  },
  {
   "cell_type": "code",
   "execution_count": null,
   "id": "indexing_selection_code",
   "metadata": {},
   "outputs": [],
   "source": [
    "df = pd.DataFrame(np.random.randn(6, 4), columns=['A', 'B', 'C', 'D'])\n",
    "print('First 3 rows:', df.head(3))\n",
    "print('Select column A:', df['A'])\n",
    "print('Select by position:', df.iloc[0, 1])\n",
    "print('Boolean indexing:', df[df['A'] > 0])\n"
   ]
  },
  {
   "cell_type": "markdown",
   "id": "missing_data",
   "metadata": {},
   "source": [
    "## Handling Missing Data\n",
    "Detect, remove, or fill missing values."
   ]
  },
  {
   "cell_type": "code",
   "execution_count": null,
   "id": "missing_data_code",
   "metadata": {},
   "outputs": [],
   "source": [
    "df = pd.DataFrame({'A': [1, np.nan, 3], 'B': [4, 5, np.nan]})\n",
    "print('Original:', df)\n",
    "print('Drop rows with NaN:', df.dropna())\n",
    "print('Fill NaN with 0:', df.fillna(0))\n"
   ]
  },
  {
   "cell_type": "markdown",
   "id": "aggregation_groupby",
   "metadata": {},
   "source": [
    "## Aggregation and GroupBy\n",
    "Aggregate data and group by categories."
   ]
  },
  {
   "cell_type": "code",
   "execution_count": null,
   "id": "aggregation_groupby_code",
   "metadata": {},
   "outputs": [],
   "source": [
    "df = pd.DataFrame({'Category': ['A', 'B', 'A', 'B'], 'Value': [10, 20, 30, 50]})\n",
    "print('Group by Category and sum:')\n",
    "df.groupby('Category').sum()\n"
   ]
  },
  {
   "cell_type": "markdown",
   "id": "merging_joining",
   "metadata": {},
   "source": [
    "## Merging and Joining\n",
    "Combine multiple DataFrames."
   ]
  },
  {
   "cell_type": "code",
   "execution_count": null,
   "id": "merging_joining_code",
   "metadata": {},
   "outputs": [],
   "source": [
    "df1 = pd.DataFrame({'key': ['A', 'B', 'C'], 'value': [1, 2, 3]})\n",
    "df2 = pd.DataFrame({'key': ['B', 'C', 'D'], 'value': [4, 5, 6]})\n",
    "merged = pd.merge(df1, df2, on='key', how='outer', suffixes=('_left', '_right'))\n",
    "print('Merged DataFrame:')\n",
    "merged\n"
   ]
  },
  {
   "cell_type": "markdown",
   "id": "read_file",
   "metadata": {},
   "source": [
    "## Reading Data from Files\n",
    "Pandas can read data from many file formats, such as CSV and Excel."
   ]
  },
  {
   "cell_type": "code",
   "execution_count": null,
   "id": "read_file_code",
   "metadata": {},
   "outputs": [],
   "source": [
    "# Read from a CSV file\n",
    "df_csv = pd.read_csv('mail_data.csv')  # Make sure data.csv exists\n",
    "print('CSV DataFrame:')\n",
    "df_csv.head()\n",
    "\n"
   ]
  },
  {
   "cell_type": "markdown",
   "id": "save_file",
   "metadata": {},
   "source": [
    "## Saving Data to Files\n",
    "You can save DataFrames to CSV, Excel, and other formats."
   ]
  },
  {
   "cell_type": "code",
   "execution_count": null,
   "id": "save_file_code",
   "metadata": {},
   "outputs": [],
   "source": [
    "# Save to a CSV file\n",
    "df.to_csv('output.csv', index=False)\n",
    "\n",
    "# Save to an Excel file\n",
    "# df.to_excel('output.xlsx', index=False)  # Uncomment to save as Excel\n"
   ]
  },
  {
   "cell_type": "markdown",
   "id": "docs",
   "metadata": {},
   "source": [
    "## Documentation\n",
    "- [Pandas Documentation](https://pandas.pydata.org/docs/)\n",
    "- [Pandas User Guide](https://pandas.pydata.org/pandas-docs/stable/user_guide/index.html)\n"
   ]
  },
  {
   "cell_type": "markdown",
   "id": "project",
   "metadata": {},
   "source": [
    "## Project: Using Pandas in AI\n",
    "Analyze a dataset (e.g., Titanic) to find insights for a machine learning model.\n",
    "\n",
    "### Example\n",
    "```python\n",
    "# Load a dataset\n",
    "df = pd.read_csv('https://raw.githubusercontent.com/datasciencedojo/datasets/master/titanic.csv')\n",
    "print(df[['Survived', 'Age', 'Fare']].groupby('Survived').mean())\n",
    "```\n"
   ]
  }
 ],
 "metadata": {
  "kernelspec": {
   "display_name": ".venv",
   "language": "python",
   "name": "python3"
  },
  "language_info": {
   "codemirror_mode": {
    "name": "ipython",
    "version": 3
   },
   "file_extension": ".py",
   "mimetype": "text/x-python",
   "name": "python",
   "nbconvert_exporter": "python",
   "pygments_lexer": "ipython3",
   "version": "3.12.4"
  }
 },
 "nbformat": 4,
 "nbformat_minor": 5
}
