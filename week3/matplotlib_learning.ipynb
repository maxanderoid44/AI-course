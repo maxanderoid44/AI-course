{
 "cells": [
  {
   "cell_type": "markdown",
   "id": "intro",
   "metadata": {},
   "source": [
    "# Matplotlib Library: Introduction and Usage\n",
    "Matplotlib is a comprehensive library for creating static, animated, and interactive visualizations in Python.\n",
    "\n",
    "## Installation\n",
    "```bash\n",
    "pip install matplotlib\n",
    "```\n",
    "\n",
    "## Importing Matplotlib\n",
    "```python\n",
    "import matplotlib.pyplot as plt\n",
    "```\n"
   ]
  },
  {
   "cell_type": "markdown",
   "id": "basic_plotting",
   "metadata": {},
   "source": [
    "## Basic Plotting\n",
    "Let's plot a simple graph."
   ]
  },
  {
   "cell_type": "code",
   "execution_count": null,
   "id": "basic_plotting_code",
   "metadata": {},
   "outputs": [],
   "source": [
    "import matplotlib.pyplot as plt\n",
    "x = [1, 2, 3, 4, 5]\n",
    "y = [i**2 for i in x]\n",
    "plt.plot(x, y)\n",
    "plt.xlabel('x')\n",
    "plt.ylabel('y')\n",
    "plt.title('y = x^2')\n",
    "plt.show()\n"
   ]
  },
  {
   "cell_type": "markdown",
   "id": "labels_legends",
   "metadata": {},
   "source": [
    "## Labels and Legends\n",
    "Add labels and legends to your plots."
   ]
  },
  {
   "cell_type": "code",
   "execution_count": null,
   "id": "labels_legends_code",
   "metadata": {},
   "outputs": [],
   "source": [
    "plt.plot(x, y, label='y = x^2')\n",
    "plt.xlabel('x')\n",
    "plt.ylabel('y')\n",
    "plt.title('Plot with Legend')\n",
    "plt.legend()\n",
    "plt.show()\n"
   ]
  },
  {
   "cell_type": "markdown",
   "id": "subplots",
   "metadata": {},
   "source": [
    "## Subplots\n",
    "Create multiple plots in one figure."
   ]
  },
  {
   "cell_type": "code",
   "execution_count": null,
   "id": "subplots_code",
   "metadata": {},
   "outputs": [],
   "source": [
    "fig, axs = plt.subplots(1, 2, figsize=(10, 4))\n",
    "axs[0].plot(x, y)\n",
    "axs[0].set_title('Left Plot')\n",
    "axs[1].bar(x, y)\n",
    "axs[1].set_title('Right Plot')\n",
    "plt.tight_layout()\n",
    "plt.show()\n"
   ]
  },
  {
   "cell_type": "markdown",
   "id": "styles",
   "metadata": {},
   "source": [
    "## Plot Styles\n",
    "Change the style of your plots."
   ]
  },
  {
   "cell_type": "code",
   "execution_count": null,
   "id": "styles_code",
   "metadata": {},
   "outputs": [],
   "source": [
    "plt.style.use('ggplot')\n",
    "plt.plot(x, y)\n",
    "plt.title('Styled Plot')\n",
    "plt.show()\n"
   ]
  },
  {
   "cell_type": "markdown",
   "id": "save_figures",
   "metadata": {},
   "source": [
    "## Saving Figures\n",
    "Save your plots to files."
   ]
  },
  {
   "cell_type": "code",
   "execution_count": null,
   "id": "save_figures_code",
   "metadata": {},
   "outputs": [],
   "source": [
    "plt.plot(x, y)\n",
    "plt.savefig('myplot.png')\n",
    "plt.close()\n"
   ]
  },
  {
   "cell_type": "markdown",
   "id": "docs",
   "metadata": {},
   "source": [
    "## Documentation\n",
    "- [Matplotlib Documentation](https://matplotlib.org/stable/contents.html)\n",
    "- [Matplotlib Tutorials](https://matplotlib.org/stable/tutorials/index.html)\n"
   ]
  },
  {
   "cell_type": "markdown",
   "id": "project",
   "metadata": {},
   "source": [
    "## Project: Using Matplotlib in AI\n",
    "Visualize the training and validation loss of a neural network during training.\n",
    "\n",
    "### Example\n"
   ]
  },
  {
   "cell_type": "code",
   "execution_count": null,
   "id": "2dcdd1f7",
   "metadata": {},
   "outputs": [],
   "source": [
    "epochs = list(range(1, 11))\n",
    "train_loss = [0.9, 0.7, 0.5, 0.4, 0.35, 0.3, 0.28, 0.25, 0.22, 0.2]\n",
    "val_loss = [1.0, 0.8, 0.6, 0.5, 0.45, 0.42, 0.4, 0.39, 0.38, 0.37]\n",
    "plt.plot(epochs, train_loss, label='Train Loss')\n",
    "plt.plot(epochs, val_loss, label='Validation Loss')\n",
    "plt.xlabel('Epoch')\n",
    "plt.ylabel('Loss')\n",
    "plt.title('Training vs Validation Loss')\n",
    "plt.legend()\n",
    "plt.show()"
   ]
  }
 ],
 "metadata": {
  "kernelspec": {
   "display_name": ".venv",
   "language": "python",
   "name": "python3"
  },
  "language_info": {
   "codemirror_mode": {
    "name": "ipython",
    "version": 3
   },
   "file_extension": ".py",
   "mimetype": "text/x-python",
   "name": "python",
   "nbconvert_exporter": "python",
   "pygments_lexer": "ipython3",
   "version": "3.12.4"
  }
 },
 "nbformat": 4,
 "nbformat_minor": 5
}
