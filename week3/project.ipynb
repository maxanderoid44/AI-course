{
 "cells": [
  {
   "cell_type": "markdown",
   "id": "intro",
   "metadata": {},
   "source": [
    "# Simple Project: Data Analysis and Visualization with Numpy, Pandas, and Matplotlib\n",
    "This project demonstrates how to use numpy to generate data, pandas to analyze it, and matplotlib to visualize the results.\n"
   ]
  },
  {
   "cell_type": "markdown",
   "id": "generate_data",
   "metadata": {},
   "source": [
    "## 1. Generate Data with Numpy\n",
    "Let's create a dataset of random students' scores for three subjects."
   ]
  },
  {
   "cell_type": "code",
   "execution_count": null,
   "id": "generate_data_code",
   "metadata": {},
   "outputs": [],
   "source": [
    "import numpy as np\n",
    "np.random.seed(0)\n",
    "students = ['Alice', 'Bob', 'Charlie', 'David', 'Eva']\n",
    "scores = np.random.randint(60, 100, size=(5, 3))\n",
    "print('Scores:', scores)\n"
   ]
  },
  {
   "cell_type": "markdown",
   "id": "analyze_data",
   "metadata": {},
   "source": [
    "## 2. Analyze Data with Pandas\n",
    "Convert the numpy array to a pandas DataFrame and calculate statistics."
   ]
  },
  {
   "cell_type": "code",
   "execution_count": null,
   "id": "analyze_data_code",
   "metadata": {},
   "outputs": [],
   "source": [
    "import pandas as pd\n",
    "df = pd.DataFrame(scores, columns=['Math', 'Science', 'English'], index=students)\n",
    "print(df)\n",
    "print('Average scores per subject:', df.mean())\n",
    "print('Average score per student:',)\n",
    "df.mean(axis=1)\n"
   ]
  },
  {
   "cell_type": "markdown",
   "id": "visualize_data",
   "metadata": {},
   "source": [
    "## 3. Visualize Data with Matplotlib\n",
    "Plot the students' scores and the average scores."
   ]
  },
  {
   "cell_type": "code",
   "execution_count": null,
   "id": "visualize_data_code",
   "metadata": {},
   "outputs": [],
   "source": [
    "import matplotlib.pyplot as plt\n",
    "df.plot(kind='bar', figsize=(8, 5))\n",
    "plt.title('Student Scores by Subject')\n",
    "plt.ylabel('Score')\n",
    "plt.xlabel('Student')\n",
    "plt.ylim(0, 100)\n",
    "plt.legend(loc='lower right')\n",
    "plt.tight_layout()\n",
    "plt.show()\n",
    "# Plot average scores per subject\n",
    "df.mean().plot(kind='pie', autopct='%1.1f%%', title='Average Scores per Subject')\n",
    "plt.ylabel('')\n",
    "plt.show()\n"
   ]
  }
 ],
 "metadata": {
  "kernelspec": {
   "display_name": ".venv",
   "language": "python",
   "name": "python3"
  },
  "language_info": {
   "codemirror_mode": {
    "name": "ipython",
    "version": 3
   },
   "file_extension": ".py",
   "mimetype": "text/x-python",
   "name": "python",
   "nbconvert_exporter": "python",
   "pygments_lexer": "ipython3",
   "version": "3.12.4"
  }
 },
 "nbformat": 4,
 "nbformat_minor": 5
}
