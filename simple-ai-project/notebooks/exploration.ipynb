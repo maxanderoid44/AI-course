{
 "cells": [
  {
   "cell_type": "markdown",
   "metadata": {},
   "source": [
    "# Simple AI Project - Data Exploration\n",
    "\n",
    "This notebook explores the email spam classification dataset and demonstrates the project workflow."
   ]
  },
  {
   "cell_type": "code",
   "execution_count": null,
   "metadata": {},
   "outputs": [],
   "source": [
    "# Import required libraries\n",
    "import pandas as pd\n",
    "import numpy as np\n",
    "import matplotlib.pyplot as plt\n",
    "import seaborn as sns\n",
    "from sklearn.model_selection import train_test_split\n",
    "from sklearn.ensemble import RandomForestClassifier\n",
    "from sklearn.metrics import accuracy_score, classification_report\n",
    "\n",
    "# Set style\n",
    "plt.style.use('default')\n",
    "sns.set_palette(\"husl\")"
   ]
  },
  {
   "cell_type": "markdown",
   "metadata": {},
   "source": [
    "## 1. Load and Explore Data"
   ]
  },
  {
   "cell_type": "code",
   "execution_count": null,
   "metadata": {},
   "outputs": [],
   "source": [
    "# Create sample data\n",
    "data = {\n",
    "    'text': [\n",
    "        'Free money now! Click here!',\n",
    "        'Meeting tomorrow at 3 PM',\n",
    "        'You won a prize! Claim now!',\n",
    "        'Project update: Q4 results',\n",
    "        'Limited time offer! Buy now!',\n",
    "        'Team lunch this Friday',\n",
    "        'Urgent: Your account is suspended',\n",
    "        'Weekly report attached',\n",
    "        'Exclusive deal for you!',\n",
    "        'Code review meeting notes'\n",
    "    ],\n",
    "    'label': [1, 0, 1, 0, 1, 0, 1, 0, 1, 0]  # 1 = spam, 0 = legitimate\n",
    "}\n",
    "\n",
    "df = pd.DataFrame(data)\n",
    "print(f\"Dataset shape: {df.shape}\")\n",
    "df.head()"
   ]
  },
  {
   "cell_type": "markdown",
   "metadata": {},
   "source": [
    "## 2. Data Preprocessing"
   ]
  },
  {
   "cell_type": "code",
   "execution_count": null,
   "metadata": {},
   "outputs": [],
   "source": [
    "# Create features\n",
    "df['length'] = df['text'].str.len()\n",
    "df['word_count'] = df['text'].str.split().str.len()\n",
    "df['has_exclamation'] = df['text'].str.contains('!').astype(int)\n",
    "df['has_urgent'] = df['text'].str.contains('urgent|free|prize|offer|deal').astype(int)\n",
    "\n",
    "print(\"Features created:\")\n",
    "print(df[['length', 'word_count', 'has_exclamation', 'has_urgent']].describe())"
   ]
  },
  {
   "cell_type": "markdown",
   "metadata": {},
   "source": [
    "## 3. Data Visualization"
   ]
  },
  {
   "cell_type": "code",
   "execution_count": null,
   "metadata": {},
   "outputs": [],
   "source": [
    "# Create visualizations\n",
    "fig, axes = plt.subplots(2, 2, figsize=(12, 8))\n",
    "\n",
    "# Text length distribution\n",
    "axes[0, 0].hist(df[df['label'] == 0]['length'], alpha=0.7, label='Legitimate', bins=5)\n",
    "axes[0, 0].hist(df[df['label'] == 1]['length'], alpha=0.7, label='Spam', bins=5)\n",
    "axes[0, 0].set_title('Text Length Distribution')\n",
    "axes[0, 0].set_xlabel('Length')\n",
    "axes[0, 0].set_ylabel('Frequency')\n",
    "axes[0, 0].legend()\n",
    "\n",
    "# Word count distribution\n",
    "axes[0, 1].hist(df[df['label'] == 0]['word_count'], alpha=0.7, label='Legitimate', bins=5)\n",
    "axes[0, 1].hist(df[df['label'] == 1]['word_count'], alpha=0.7, label='Spam', bins=5)\n",
    "axes[0, 1].set_title('Word Count Distribution')\n",
    "axes[0, 1].set_xlabel('Word Count')\n",
    "axes[0, 1].set_ylabel('Frequency')\n",
    "axes[0, 1].legend()\n",
    "\n",
    "# Feature distribution\n",
    "features = ['has_exclamation', 'has_urgent']\n",
    "feature_counts = df[features].sum()\n",
    "axes[1, 0].bar(feature_counts.index, feature_counts.values)\n",
    "axes[1, 0].set_title('Feature Distribution')\n",
    "axes[1, 0].set_ylabel('Count')\n",
    "\n",
    "# Label distribution\n",
    "label_counts = df['label'].value_counts()\n",
    "axes[1, 1].pie(label_counts.values, labels=['Legitimate', 'Spam'], autopct='%1.1f%%')\n",
    "axes[1, 1].set_title('Label Distribution')\n",
    "\n",
    "plt.tight_layout()\n",
    "plt.show()"
   ]
  },
  {
   "cell_type": "markdown",
   "metadata": {},
   "source": [
    "## 4. Model Training"
   ]
  },
  {
   "cell_type": "code",
   "execution_count": null,
   "metadata": {},
   "outputs": [],
   "source": [
    "# Prepare features and target\n",
    "features = ['length', 'word_count', 'has_exclamation', 'has_urgent']\n",
    "X = df[features]\n",
    "y = df['label']\n",
    "\n",
    "# Split data\n",
    "X_train, X_test, y_train, y_test = train_test_split(\n",
    "    X, y, test_size=0.3, random_state=42, stratify=y\n",
    ")\n",
    "\n",
    "# Train model\n",
    "model = RandomForestClassifier(n_estimators=100, random_state=42)\n",
    "model.fit(X_train, y_train)\n",
    "\n",
    "# Make predictions\n",
    "y_pred = model.predict(X_test)\n",
    "\n",
    "# Evaluate model\n",
    "accuracy = accuracy_score(y_test, y_pred)\n",
    "print(f\"Model Accuracy: {accuracy:.2%}\")\n",
    "print(\"\\nClassification Report:\")\n",
    "print(classification_report(y_test, y_pred, target_names=['Legitimate', 'Spam']))"
   ]
  },
  {
   "cell_type": "markdown",
   "metadata": {},
   "source": [
    "## 5. Results Summary"
   ]
  },
  {
   "cell_type": "code",
   "execution_count": null,
   "metadata": {},
   "outputs": [],
   "source": [
    "print(\"📊 Project Summary:\")\n",
    "print(f\"   • Dataset size: {len(df)} samples\")\n",
    "print(f\"   • Features: {len(features)}\")\n",
    "print(f\"   • Model accuracy: {accuracy:.2%}\")\n",
    "print(f\"   • Training samples: {len(X_train)}\")\n",
    "print(f\"   • Test samples: {len(X_test)}\")\n",
    "\n",
    "print(\"\\n✅ Simple AI Project completed successfully!\")"
   ]
  }
 ],
 "metadata": {
  "kernelspec": {
   "display_name": ".venv",
   "language": "python",
   "name": "python3"
  },
  "language_info": {
   "codemirror_mode": {
    "name": "ipython",
    "version": 3
   },
   "file_extension": ".py",
   "mimetype": "text/x-python",
   "name": "python",
   "nbconvert_exporter": "python",
   "pygments_lexer": "ipython3",
   "version": "3.12.4"
  }
 },
 "nbformat": 4,
 "nbformat_minor": 4
}
